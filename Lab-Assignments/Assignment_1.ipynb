{
  "nbformat": 4,
  "nbformat_minor": 0,
  "metadata": {
    "colab": {
      "name": "Day-1.ipynb",
      "provenance": [],
      "collapsed_sections": []
    },
    "kernelspec": {
      "name": "python3",
      "display_name": "Python 3"
    },
    "language_info": {
      "name": "python"
    }
  },
  "cells": [
    {
      "cell_type": "markdown",
      "metadata": {
        "id": "crkwZf5SCyER"
      },
      "source": [
        "The main idea of this assignment is explore \n",
        "1.   Basic Operation \n",
        "           - print statement \n",
        "           - how to get help \n",
        "           - declare variables \n",
        "           - assign values\n",
        "2. Working with Integers \n",
        "           - operators \n",
        "           - functions \n",
        "3. Working with Strings \n",
        "           - operators \n",
        "           - functions \n",
        "4. Handling Errors \n",
        "           - Syntax \n",
        "           - Run Time \n",
        "           - Logical\n",
        "\n",
        "\n",
        "\n"
      ]
    },
    {
      "cell_type": "code",
      "metadata": {
        "id": "GPfG8zb3LBT5",
        "colab": {
          "base_uri": "https://localhost:8080/"
        },
        "outputId": "7573992d-6d30-4ba7-a128-50c6d339137d"
      },
      "source": [
        "# print your name \n",
        "print(\"Name                : Prathik B Shetty\");\n",
        "\n",
        "# print your hobbies\n",
        "print(\"Hobbies             : Listening to Music, Reading Non-Fiction Books\"); \n",
        "\n",
        "# print your registration number\n",
        "print(\"Registration Number : 211058019\");"
      ],
      "execution_count": null,
      "outputs": [
        {
          "output_type": "stream",
          "name": "stdout",
          "text": [
            "Prathik B Shetty\n",
            "Listening to Music, Reading Non-Fiction Books\n",
            "211058019\n"
          ]
        }
      ]
    },
    {
      "cell_type": "code",
      "metadata": {
        "id": "NYfLS3UvO14i",
        "colab": {
          "base_uri": "https://localhost:8080/"
        },
        "outputId": "79ea7852-74b8-4cb4-aa3c-fc763d604010"
      },
      "source": [
        "# how to get more information about print functions \n",
        "help(print);\n",
        "\n",
        "# how to get more infromation about math module\n",
        "import math \n",
        "help(math);\n",
        "\n",
        "# how to get more information about symbols \n",
        "help('+');"
      ],
      "execution_count": null,
      "outputs": [
        {
          "output_type": "stream",
          "name": "stdout",
          "text": [
            "Operator precedence\n",
            "*******************\n",
            "\n",
            "The following table summarizes the operator precedence in Python, from\n",
            "lowest precedence (least binding) to highest precedence (most\n",
            "binding).  Operators in the same box have the same precedence.  Unless\n",
            "the syntax is explicitly given, operators are binary.  Operators in\n",
            "the same box group left to right (except for exponentiation, which\n",
            "groups from right to left).\n",
            "\n",
            "Note that comparisons, membership tests, and identity tests, all have\n",
            "the same precedence and have a left-to-right chaining feature as\n",
            "described in the Comparisons section.\n",
            "\n",
            "+-------------------------------------------------+---------------------------------------+\n",
            "| Operator                                        | Description                           |\n",
            "|=================================================|=======================================|\n",
            "| \"lambda\"                                        | Lambda expression                     |\n",
            "+-------------------------------------------------+---------------------------------------+\n",
            "| \"if\" – \"else\"                                   | Conditional expression                |\n",
            "+-------------------------------------------------+---------------------------------------+\n",
            "| \"or\"                                            | Boolean OR                            |\n",
            "+-------------------------------------------------+---------------------------------------+\n",
            "| \"and\"                                           | Boolean AND                           |\n",
            "+-------------------------------------------------+---------------------------------------+\n",
            "| \"not\" \"x\"                                       | Boolean NOT                           |\n",
            "+-------------------------------------------------+---------------------------------------+\n",
            "| \"in\", \"not in\", \"is\", \"is not\", \"<\", \"<=\", \">\", | Comparisons, including membership     |\n",
            "| \">=\", \"!=\", \"==\"                                | tests and identity tests              |\n",
            "+-------------------------------------------------+---------------------------------------+\n",
            "| \"|\"                                             | Bitwise OR                            |\n",
            "+-------------------------------------------------+---------------------------------------+\n",
            "| \"^\"                                             | Bitwise XOR                           |\n",
            "+-------------------------------------------------+---------------------------------------+\n",
            "| \"&\"                                             | Bitwise AND                           |\n",
            "+-------------------------------------------------+---------------------------------------+\n",
            "| \"<<\", \">>\"                                      | Shifts                                |\n",
            "+-------------------------------------------------+---------------------------------------+\n",
            "| \"+\", \"-\"                                        | Addition and subtraction              |\n",
            "+-------------------------------------------------+---------------------------------------+\n",
            "| \"*\", \"@\", \"/\", \"//\", \"%\"                        | Multiplication, matrix                |\n",
            "|                                                 | multiplication, division, floor       |\n",
            "|                                                 | division, remainder [5]               |\n",
            "+-------------------------------------------------+---------------------------------------+\n",
            "| \"+x\", \"-x\", \"~x\"                                | Positive, negative, bitwise NOT       |\n",
            "+-------------------------------------------------+---------------------------------------+\n",
            "| \"**\"                                            | Exponentiation [6]                    |\n",
            "+-------------------------------------------------+---------------------------------------+\n",
            "| \"await\" \"x\"                                     | Await expression                      |\n",
            "+-------------------------------------------------+---------------------------------------+\n",
            "| \"x[index]\", \"x[index:index]\",                   | Subscription, slicing, call,          |\n",
            "| \"x(arguments...)\", \"x.attribute\"                | attribute reference                   |\n",
            "+-------------------------------------------------+---------------------------------------+\n",
            "| \"(expressions...)\",  \"[expressions...]\", \"{key: | Binding or parenthesized expression,  |\n",
            "| value...}\", \"{expressions...}\"                  | list display, dictionary display, set |\n",
            "|                                                 | display                               |\n",
            "+-------------------------------------------------+---------------------------------------+\n",
            "\n",
            "-[ Footnotes ]-\n",
            "\n",
            "[1] While \"abs(x%y) < abs(y)\" is true mathematically, for floats it\n",
            "    may not be true numerically due to roundoff.  For example, and\n",
            "    assuming a platform on which a Python float is an IEEE 754 double-\n",
            "    precision number, in order that \"-1e-100 % 1e100\" have the same\n",
            "    sign as \"1e100\", the computed result is \"-1e-100 + 1e100\", which\n",
            "    is numerically exactly equal to \"1e100\".  The function\n",
            "    \"math.fmod()\" returns a result whose sign matches the sign of the\n",
            "    first argument instead, and so returns \"-1e-100\" in this case.\n",
            "    Which approach is more appropriate depends on the application.\n",
            "\n",
            "[2] If x is very close to an exact integer multiple of y, it’s\n",
            "    possible for \"x//y\" to be one larger than \"(x-x%y)//y\" due to\n",
            "    rounding.  In such cases, Python returns the latter result, in\n",
            "    order to preserve that \"divmod(x,y)[0] * y + x % y\" be very close\n",
            "    to \"x\".\n",
            "\n",
            "[3] The Unicode standard distinguishes between *code points* (e.g.\n",
            "    U+0041) and *abstract characters* (e.g. “LATIN CAPITAL LETTER A”).\n",
            "    While most abstract characters in Unicode are only represented\n",
            "    using one code point, there is a number of abstract characters\n",
            "    that can in addition be represented using a sequence of more than\n",
            "    one code point.  For example, the abstract character “LATIN\n",
            "    CAPITAL LETTER C WITH CEDILLA” can be represented as a single\n",
            "    *precomposed character* at code position U+00C7, or as a sequence\n",
            "    of a *base character* at code position U+0043 (LATIN CAPITAL\n",
            "    LETTER C), followed by a *combining character* at code position\n",
            "    U+0327 (COMBINING CEDILLA).\n",
            "\n",
            "    The comparison operators on strings compare at the level of\n",
            "    Unicode code points. This may be counter-intuitive to humans.  For\n",
            "    example, \"\"\\u00C7\" == \"\\u0043\\u0327\"\" is \"False\", even though both\n",
            "    strings represent the same abstract character “LATIN CAPITAL\n",
            "    LETTER C WITH CEDILLA”.\n",
            "\n",
            "    To compare strings at the level of abstract characters (that is,\n",
            "    in a way intuitive to humans), use \"unicodedata.normalize()\".\n",
            "\n",
            "[4] Due to automatic garbage-collection, free lists, and the dynamic\n",
            "    nature of descriptors, you may notice seemingly unusual behaviour\n",
            "    in certain uses of the \"is\" operator, like those involving\n",
            "    comparisons between instance methods, or constants.  Check their\n",
            "    documentation for more info.\n",
            "\n",
            "[5] The \"%\" operator is also used for string formatting; the same\n",
            "    precedence applies.\n",
            "\n",
            "[6] The power operator \"**\" binds less tightly than an arithmetic or\n",
            "    bitwise unary operator on its right, that is, \"2**-1\" is \"0.5\".\n",
            "\n",
            "Related help topics: lambda, or, and, not, in, is, BOOLEAN, COMPARISON,\n",
            "BITWISE, SHIFTING, BINARY, FORMATTING, POWER, UNARY, ATTRIBUTES,\n",
            "SUBSCRIPTS, SLICINGS, CALLS, TUPLES, LISTS, DICTIONARIES\n",
            "\n"
          ]
        }
      ]
    },
    {
      "cell_type": "code",
      "metadata": {
        "id": "YmCpHvKVO5ud"
      },
      "source": [
        "# store your role model name in the variable \"role\"\n",
        "role = \"MKBHD\"\n",
        "\n",
        "# describe your role model in the variable \"role_desc\"\n",
        "role_desc = \"Tech youtuber with over 10 million Subscribers\";\n",
        "\n",
        "# store the numeric value in the variable \"my_values\"\n",
        "my_value = 7;"
      ],
      "execution_count": null,
      "outputs": []
    },
    {
      "cell_type": "code",
      "metadata": {
        "id": "Jkev_gH2T4w7",
        "colab": {
          "base_uri": "https://localhost:8080/"
        },
        "outputId": "e3a68e71-843e-4ac8-cdd1-ec6d849ff851"
      },
      "source": [
        "# you can perform arithemetic opeartions using python arithmetic opeartors \n",
        "# To perform arithmetic opeations \n",
        "# If your run a 1000 Kilo Meter race in 143 minutes 30 seconds, what is your average time per mile? What is your average speed in miles per hour? \n",
        "# Hint : 1.61 kilometers in a mile\n",
        "kilo_to_miles = 1000/1.61; #Convert kilometers to miles\n",
        "minutes = 143;\n",
        "seconds = 30;\n",
        "seconds_in_minutes = 30/60;\n",
        "total_minutes = minutes + seconds_in_minutes;\n",
        "total_hrs = total_minutes / 60;\n",
        "average_time_per_mile = kilo_to_miles / total_minutes;\n",
        "average_speed = kilo_to_miles / total_hrs;\n",
        "print(\"Average time per Mile in minutes      : \",average_time_per_mile);\n",
        "print(\"Average Speed in Miles per hour       : \",average_speed);\n"
      ],
      "execution_count": null,
      "outputs": [
        {
          "output_type": "stream",
          "name": "stdout",
          "text": [
            "Average time per Mile in minutes      :  4.32834851862272\n",
            "Average Speed in Miles per hour       :  259.7009111173632\n"
          ]
        }
      ]
    },
    {
      "cell_type": "code",
      "metadata": {
        "id": "M0jRtr_pVDAO",
        "colab": {
          "base_uri": "https://localhost:8080/"
        },
        "outputId": "1ffe3d5e-fbdb-4733-afe3-cbf29bea4c5c"
      },
      "source": [
        "# Suppose the cover price of a python book  is  577.95, but bookstores get a 40% discount.\n",
        "# Shipping costs  150 for the first copy and 50 Rupees for each additional copy. What is the total wholesale cost for 60 copies?\n",
        "book_price = 577.95;\n",
        "price_after_discount = book_price - (book_price * 0.4);\n",
        "shipping_cost = 150 + 59 * 50; #Shipping cost for 60 Books\n",
        "wholesale_cost = shipping_cost + price_after_discount * 60;\n",
        "print(\"Wholesale Cost  : \", wholesale_cost);"
      ],
      "execution_count": null,
      "outputs": [
        {
          "output_type": "stream",
          "name": "stdout",
          "text": [
            "Wholesale Cost  :  23906.199999999997\n"
          ]
        }
      ]
    },
    {
      "cell_type": "code",
      "metadata": {
        "id": "_lQDsw9z6EKD",
        "colab": {
          "base_uri": "https://localhost:8080/"
        },
        "outputId": "d750b326-f5bb-4811-e07d-cb8817e3591c"
      },
      "source": [
        "\n",
        "# write a python code to convert Centrigrade to Fahrenheit , get the value Centrigrade from the user. \n",
        "# Sample Input:\n",
        "# Enter Centrigrade:  23.5 \n",
        "centrigrade  = float(input(\"Centrigrade     : \")); #User Input\n",
        "fahrenheit   = centrigrade * (9/5) + 32; #Convert\n",
        "print(\"Fahrenheit      :\",fahrenheit); #Display"
      ],
      "execution_count": null,
      "outputs": [
        {
          "output_type": "stream",
          "name": "stdout",
          "text": [
            "Centrigrade     : 0\n",
            "Fahrenheit      : 32.0\n"
          ]
        }
      ]
    },
    {
      "cell_type": "code",
      "metadata": {
        "id": "U2jXh8GNDk3Q",
        "colab": {
          "base_uri": "https://localhost:8080/"
        },
        "outputId": "1d963027-6be1-4ea1-a4f0-a6cf9b6abe83"
      },
      "source": [
        "# write a python code to convert Fahrenheit to Centrigrade, get the value Fahreheit from the user. \n",
        "# Sample Input:\n",
        "# Enter Fahreheit:  23.5 \n",
        "fahrenheit  =  float(input(\"Fahrenheit     : \")); #User Input\n",
        "centrigrade = (fahrenheit - 32) * (5/9); #convert\n",
        "print(\"Centrigrade    :\",centrigrade); #display"
      ],
      "execution_count": null,
      "outputs": [
        {
          "output_type": "stream",
          "name": "stdout",
          "text": [
            "Fahrenheit     : 32\n",
            "Centrigrade    :  0.0\n"
          ]
        }
      ]
    },
    {
      "cell_type": "code",
      "metadata": {
        "id": "UH0S-lJJFDQ0",
        "colab": {
          "base_uri": "https://localhost:8080/"
        },
        "outputId": "74df806d-f87f-47d2-eb6f-c022bfaf9f0a"
      },
      "source": [
        "# Write a python program of your choice which uses arithmetic operations (use both operators and functions ) with meaningful application \n",
        "import math\n",
        "\n",
        "#Variables\n",
        "x = 15;\n",
        "y = 20;\n",
        "print(\"Variable x     :\",x);\n",
        "print(\"Variable y     :\",y);\n",
        "#Arithmatic Operationts\n",
        "print(\"Addition       :\", x+y);\n",
        "print(\"Difference     :\", x-y);\n",
        "print(\"Division       :\", x/y);\n",
        "print(\"Multiplication :\", x*y);\n",
        "print(\"Division Int   :\", x//y);\n",
        "print(\"Modulus        :\", x%y);\n",
        "print(\"Power          :\", x**y);\n",
        "print(\"log(x)         :\", math.log(x));\n",
        "print(\"log10(y)       :\", math.log10(y));\n",
        "print(\"Factorial of 5 :\", math.factorial(5));\n",
        "\n"
      ],
      "execution_count": null,
      "outputs": [
        {
          "output_type": "stream",
          "name": "stdout",
          "text": [
            "Variable x     : 15\n",
            "Variable y     : 20\n",
            "Addition       : 35\n",
            "Difference     : -5\n",
            "Division       : 0.75\n",
            "Multiplication : 300\n",
            "Division Int   : 0\n",
            "Modulus        : 15\n",
            "Power          : 332525673007965087890625\n",
            "log(x)         : 2.70805020110221\n",
            "log10(y)       : 1.3010299956639813\n",
            "Factorial of 5 : 120\n"
          ]
        }
      ]
    },
    {
      "cell_type": "code",
      "metadata": {
        "id": "h18SMgbAG1AL",
        "colab": {
          "base_uri": "https://localhost:8080/"
        },
        "outputId": "7ab26874-3344-4afb-9877-3281ce3c44d6"
      },
      "source": [
        "# create a variable called my_neg to store  negative value \n",
        "my_neg = -25;\n",
        "\n",
        "# create a variable called my_float to store float value \n",
        "my_float = 26.71\n",
        "\n",
        "# create a variable called my_complex to store complex value \n",
        "\n",
        "my_complex = 10 + 5j;\n",
        "\n",
        "# Note: there a various method to create complex numbers \n",
        "\n",
        "# perform mathematical operations on complex numbers\n",
        "print (\"my_neg                      :\", my_neg); \n",
        "print (\"my_float                    :\", my_float);\n",
        "print (\"my_complex                  :\", my_complex);\n",
        "print (\"my_complex + my_float       :\", my_complex + my_float);\n",
        "print (\"(10 -7j) * 7                :\", (10 -7j) * 7);\n",
        "print (\"(10 +7j) * (10 - 7j)        :\", (10 -7j) * (10-7j));"
      ],
      "execution_count": null,
      "outputs": [
        {
          "output_type": "stream",
          "name": "stdout",
          "text": [
            "my_neg                      : -25\n",
            "my_float                    : 26.71\n",
            "my_complex                  : (10+5j)\n",
            "my_complex + my_float       : (36.71+5j)\n",
            "(10 -7j) * 7                : (70-49j)\n",
            "(10 +7j) * (10 - 7j)        : (51-140j)\n"
          ]
        }
      ]
    },
    {
      "cell_type": "code",
      "metadata": {
        "id": "D9zXw7dfeuQG",
        "colab": {
          "base_uri": "https://localhost:8080/",
          "height": 129
        },
        "outputId": "29a2f8bd-ce5d-498b-ff79-368b5abf43f4"
      },
      "source": [
        "# create a variable called break and assign it a value of 15. what is the response and find the reason behind the behaviour.  \n",
        "# Results in syntax error \n",
        "break = 15; #Break is a keyword, keywords cannot be used as variables\n"
      ],
      "execution_count": null,
      "outputs": [
        {
          "output_type": "error",
          "ename": "SyntaxError",
          "evalue": "ignored",
          "traceback": [
            "\u001b[0;36m  File \u001b[0;32m\"<ipython-input-33-f352dddb61ed>\"\u001b[0;36m, line \u001b[0;32m2\u001b[0m\n\u001b[0;31m    break = 15\u001b[0m\n\u001b[0m          ^\u001b[0m\n\u001b[0;31mSyntaxError\u001b[0m\u001b[0;31m:\u001b[0m invalid syntax\n"
          ]
        }
      ]
    },
    {
      "cell_type": "code",
      "metadata": {
        "colab": {
          "base_uri": "https://localhost:8080/"
        },
        "id": "fDPZ89vTmA3i",
        "outputId": "43b79363-1954-4a46-d279-3f95e3ea1bbb"
      },
      "source": [
        "result =\"hello world\"\n",
        "print (result[0]);"
      ],
      "execution_count": null,
      "outputs": [
        {
          "output_type": "stream",
          "name": "stdout",
          "text": [
            "h\n"
          ]
        }
      ]
    },
    {
      "cell_type": "code",
      "metadata": {
        "id": "5sv7vl8_R3P5",
        "colab": {
          "base_uri": "https://localhost:8080/"
        },
        "outputId": "e39f9f14-d808-4b25-c7c2-2310e2aee9ca"
      },
      "source": [
        "# String operations \n",
        "#Write a program to get the name of the guest , then greet the user using their name as part of greeting \n",
        "# Sample Input \n",
        "# Enter the Guest Name: Writer Sudha Murthy \n",
        "# Sample Output \n",
        "# I am extremly hounor to welcome Sudha Murthy to ....... \n",
        "guest_name = input(\"Enter the Guest Name: \");\n",
        "print(\"Thanks \" + guest_name + \", for being part of this auspicious occasion\");"
      ],
      "execution_count": null,
      "outputs": [
        {
          "output_type": "stream",
          "name": "stdout",
          "text": [
            "Enter the Guest Name: prem\n",
            "Thanks prem, for being part of this auspicious occasion\n"
          ]
        }
      ]
    },
    {
      "cell_type": "code",
      "metadata": {
        "id": "EkN2V3BzTyYh",
        "colab": {
          "base_uri": "https://localhost:8080/"
        },
        "outputId": "512a1133-a56a-40a6-9d8e-1ce43d3bfcdd"
      },
      "source": [
        "quotes  = \"Don't judge each day by the harvest you reap but by the seeds that you plant.\"\n",
        "\n",
        "# count the total number of characters in the variable quotes \n",
        "print(\"Total Nuber of Characters   :\",len(quotes));\n",
        "\n",
        "# convert the smaller case to upper case, upper case to smaller case \n",
        "new_string = \"\";\n",
        "#iterate through each character\n",
        "for char in quotes:\n",
        "  #lower case to upper\n",
        "  if (ord(char) >= 97 and ord(char) <= 122):\n",
        "    new_string = new_string + char.upper();\n",
        "  #Upper case to lower\n",
        "  elif (ord(char) >= 65 and ord(char) <= 90):\n",
        "    new_string = new_string + char.lower();\n",
        "  #Keep other characters as it is\n",
        "  else:\n",
        "    new_string = new_string + char;\n",
        "\n",
        "print(new_string);\n",
        "\n",
        "# check whether the numeric value is present or not \n",
        "flag = 0;\n",
        "for char in quotes:\n",
        "  if(char.isdigit()):\n",
        "    flag = 1; #toggle flag if numeric character is found\n",
        "if(flag == 1):\n",
        "  print(\"Numeric value present\");\n",
        "else:\n",
        "  print(\"Numeric value not present \");\n",
        "\n",
        "# Check whether the word \"harvest\" present in the string or not \n",
        "if (\"harvest\" in quotes):\n",
        "  print(\"Word 'harvest' is present in the string\");\n",
        "else:\n",
        "  print(\"Word 'harvest' not present in the string\");\n",
        "\n",
        "# replace the (.) with (!) \n",
        "print(quotes.replace('.','!'));\n"
      ],
      "execution_count": null,
      "outputs": [
        {
          "output_type": "stream",
          "name": "stdout",
          "text": [
            "Total Nuber of Characters   : 77\n",
            "dON'T JUDGE EACH DAY BY THE HARVEST YOU REAP BUT BY THE SEEDS THAT YOU PLANT.\n",
            "Numeric value not present \n",
            "Word 'harvest' is present in the string\n",
            "Don't judge each day by the harvest you reap but by the seeds that you plant!\n"
          ]
        }
      ]
    },
    {
      "cell_type": "code",
      "metadata": {
        "id": "9xasXs-dWMTc",
        "colab": {
          "base_uri": "https://localhost:8080/"
        },
        "outputId": "16b89225-f8a3-4e48-f005-fdb5ff708e96"
      },
      "source": [
        "# Explore any 5 string build-in functions which is not discussed in the class\n",
        "# provide with suitable examples \n",
        "\n",
        "#capitalize() - Capitalize first letter of the string\n",
        "word = \"hello\";\n",
        "print(word.capitalize());\n",
        "\n",
        "#The endswith() method returns True if the string ends with the specified value, otherwise False.\n",
        "txt = \"Hello, welcome to my world.\"\n",
        "x = txt.endswith(\".\")\n",
        "print(x)\n",
        "\n",
        "#swapcase() - uppercase becomes lowercase and vice versa\n",
        "txt = \"Hello My Name Is PETER\"\n",
        "x = txt.swapcase()\n",
        "print(x)\n",
        "\n",
        "#The isalpha() method returns True if all the characters are alphabet letters (a-z).\n",
        "txt = \"CompanyX\"\n",
        "x = txt.isalpha()\n",
        "print(x)\n",
        "\n",
        "#The count() method returns the number of times a specified value appears in the string.\n",
        "txt = \"I love apples, apple are my favorite fruit\"\n",
        "x = txt.count(\"apple\")\n",
        "print(x)"
      ],
      "execution_count": 6,
      "outputs": [
        {
          "output_type": "stream",
          "name": "stdout",
          "text": [
            "Hello\n",
            "True\n",
            "hELLO mY nAME iS peter\n",
            "True\n",
            "2\n"
          ]
        }
      ]
    },
    {
      "cell_type": "code",
      "metadata": {
        "id": "vs0lRRDRtRFQ",
        "colab": {
          "base_uri": "https://localhost:8080/"
        },
        "outputId": "6cc0eb9a-7a1d-4b22-8822-bbdab366eba6"
      },
      "source": [
        "num_int =55\n",
        "num_str =\"34\"\n",
        "int(num_str)\n",
        "#total = num_int + num_str\n",
        "total = num_int + int(num_str); #typecast string to int\n",
        "print (total)\n",
        "print (type(num_int))\n",
        "print (type(num_str))\n"
      ],
      "execution_count": 7,
      "outputs": [
        {
          "output_type": "stream",
          "name": "stdout",
          "text": [
            "89\n",
            "<class 'int'>\n",
            "<class 'str'>\n"
          ]
        }
      ]
    },
    {
      "cell_type": "code",
      "metadata": {
        "id": "Rbq2VWPy4Hp-",
        "colab": {
          "base_uri": "https://localhost:8080/"
        },
        "outputId": "4a5a584c-b0f6-4b30-cc0b-7783be4cb49a"
      },
      "source": [
        "#Find potential sources of runtime errors in this code snippet:\n",
        "import math\n",
        "dividend = float(input(\"Please enter the dividend: \"))\n",
        "divisor = float(input(\"Please enter the divisor: \"))\n",
        "quotient = dividend / divisor #Divide by Zero Error\n",
        "\n",
        "# wrong -> quotient_rounded = math.round(quotient) \n",
        "quotient_rounded = round(quotient)  #use round instead of math.round\n"
      ],
      "execution_count": null,
      "outputs": [
        {
          "name": "stdout",
          "output_type": "stream",
          "text": [
            "Please enter the dividend: 5\n",
            "Please enter the divisor: 5\n"
          ]
        }
      ]
    },
    {
      "cell_type": "code",
      "metadata": {
        "id": "yNDpOmfoNZhD",
        "colab": {
          "base_uri": "https://localhost:8080/",
          "height": 130
        },
        "outputId": "6e13a81d-ffb3-4fb9-99ce-69399c33fcaf"
      },
      "source": [
        "# print the quotes : Don't judge each day by the harvest you reap but by the seeds that you plant.\n",
        "# Example for syntax Error \n",
        "\n",
        "primt Don't judge each day by the harvest you reap but by the seeds that you plant"
      ],
      "execution_count": 8,
      "outputs": [
        {
          "output_type": "error",
          "ename": "SyntaxError",
          "evalue": "ignored",
          "traceback": [
            "\u001b[0;36m  File \u001b[0;32m\"<ipython-input-8-7e024455c44f>\"\u001b[0;36m, line \u001b[0;32m4\u001b[0m\n\u001b[0;31m    primt Don't judge each day by the harvest you reap but by the seeds that you plant\u001b[0m\n\u001b[0m            ^\u001b[0m\n\u001b[0;31mSyntaxError\u001b[0m\u001b[0;31m:\u001b[0m invalid syntax\n"
          ]
        }
      ]
    },
    {
      "cell_type": "code",
      "metadata": {
        "id": "3PLbQJiLOhup"
      },
      "source": [
        "# print the Quotes :Don't judge each day by the harvest you reap but by the seeds that you plant.\n",
        "Print (\"Don't judge each day by the harvest you reap but by the seeds that you plant\"); #use double quotes when text contains single quote and vice vers"
      ],
      "execution_count": null,
      "outputs": []
    },
    {
      "cell_type": "code",
      "metadata": {
        "id": "qG-UqL6yPvLY",
        "colab": {
          "base_uri": "https://localhost:8080/"
        },
        "outputId": "18ffae4f-31ad-4846-9b44-6f4fb9364fb5"
      },
      "source": [
        "# identify the error, label the type of error and correct the error \n",
        "#syntax error --> keyword used as variable\n",
        "#class =\"plant\"\n",
        "class_name = \"plant\"; \n",
        "\n",
        "#syntax error --> Space between variable name\n",
        "#crop name =\"Brinjal\"\n",
        "crop_name = \"Brinjal\"\n",
        "\n",
        "#indentation error --> Space in the beginning\n",
        "#syntak error --> string not in quotes\n",
        "# yeid = 20kg \n",
        "yeild = \"20kg\"\n",
        "# print name of the class, crop name and yeid \n",
        "print(\"Class Name -> \",class_name)\n",
        "print(\"Crop Name  -> \",crop_name)\n",
        "print(\"Yeild      -> \",yeild)\n",
        "\n",
        "x=10\n",
        "#name error --> Uppercase X instead of lowercase x\n",
        "#print (X)\n",
        "# print the value of x \n",
        "print(x)"
      ],
      "execution_count": 14,
      "outputs": [
        {
          "output_type": "stream",
          "name": "stdout",
          "text": [
            "Class Name ->  plant\n",
            "Crop Name  ->  Brinjal\n",
            "Yeild      ->  20kg\n",
            "10\n"
          ]
        }
      ]
    },
    {
      "cell_type": "code",
      "metadata": {
        "id": "y4KL5WaiL_h0",
        "colab": {
          "base_uri": "https://localhost:8080/"
        },
        "outputId": "ce2a0c6f-2730-424f-c260-c210e360ecec"
      },
      "source": [
        "# Find the errors in the coding and correct \n",
        "# formula to convert centrigrade to fahr\n",
        "\"\"\"\n",
        "C = 21; F = 9/5*C + 32 \n",
        "\"\"\"\n",
        "\n",
        "C = 21; F = 9/5*C + 32   \n",
        "C = 21.0; K = (9/5)*C + 3 #Logical Error -> 3 in the expression should be 32\n",
        "\n",
        "C = 21.0; K = (9/5)*C + 32; #correct"
      ],
      "execution_count": 19,
      "outputs": [
        {
          "output_type": "execute_result",
          "data": {
            "text/plain": [
              "69.80000000000001"
            ]
          },
          "metadata": {},
          "execution_count": 19
        }
      ]
    },
    {
      "cell_type": "code",
      "metadata": {
        "id": "OEGKfzBuMe5b"
      },
      "source": [
        "#Explain why the code is not working \n",
        "\"\"\"\n",
        "c = a+b is evalvuated before a and b are initialized\n",
        "correct code:\n",
        "a = 10 \n",
        "b = 5\n",
        "c=  a+ b  \n",
        "print(c)\n",
        "\"\"\"\n",
        "c= a+ b \n",
        "a =10 \n",
        "b = 5 \n",
        "print(c)"
      ],
      "execution_count": null,
      "outputs": []
    },
    {
      "cell_type": "code",
      "metadata": {
        "colab": {
          "base_uri": "https://localhost:8080/"
        },
        "id": "GeVaIE5lK6Xk",
        "outputId": "95586a2d-1ab2-4877-b4cd-61e2dd2830ba"
      },
      "source": [
        "# Find the bugs in the below code, correct the mistakes and comment suggestions \n",
        "from math import pi\n",
        "h = 5.0 # height\n",
        "b = 2.0 # base #lowercase b\n",
        "r = 1.5  #this line was commented off\n",
        "area_parallelogram = h*b\n",
        "print('The area of the parallelogram is %.2f' % area_parallelogram) #Unessecary indent #incorrect spelling  -> area_parallelgram\n",
        "area_square = b**2\n",
        "print ('The area of the square is %g' % area_square)\n",
        "area_circle = pi*r**2\n",
        "print ('The area of the circle is %.3f' % area_circle)\n",
        "volume_cone = 1.0/3*pi*r**2*h\n",
        "print ('The volume of the cone is %.3f' % volume_cone)"
      ],
      "execution_count": 28,
      "outputs": [
        {
          "output_type": "stream",
          "name": "stdout",
          "text": [
            "The area of the parallelogram is 10.00\n",
            "The area of the square is 4\n",
            "The area of the circle is 7.069\n",
            "The volume of the cone is 11.781\n"
          ]
        }
      ]
    },
    {
      "cell_type": "code",
      "metadata": {
        "colab": {
          "base_uri": "https://localhost:8080/",
          "height": 215
        },
        "id": "o5pap43SGS_9",
        "outputId": "d216e4d5-2588-4646-fc9d-29b217be8707"
      },
      "source": [
        "# This code shows the use math module \n",
        "# Run time error and Logical Error \n",
        "\n",
        "from math import sin\n",
        "c = 10; #defined and initialized variable c\n",
        "r= sin(c)\n",
        "\n",
        "x=2.4\n",
        "y = 2.5 + 3j\n",
        "y_new = abs(y)\n",
        "print(y_new)\n",
        "\n",
        "math.sin(x) \n",
        "math.sin(y) #Can't convert complex to float"
      ],
      "execution_count": 35,
      "outputs": [
        {
          "output_type": "stream",
          "name": "stdout",
          "text": [
            "3.905124837953327\n"
          ]
        },
        {
          "output_type": "error",
          "ename": "TypeError",
          "evalue": "ignored",
          "traceback": [
            "\u001b[0;31m---------------------------------------------------------------------------\u001b[0m",
            "\u001b[0;31mTypeError\u001b[0m                                 Traceback (most recent call last)",
            "\u001b[0;32m<ipython-input-35-14e2a2f5bb26>\u001b[0m in \u001b[0;36m<module>\u001b[0;34m()\u001b[0m\n\u001b[1;32m     12\u001b[0m \u001b[0;34m\u001b[0m\u001b[0m\n\u001b[1;32m     13\u001b[0m \u001b[0mmath\u001b[0m\u001b[0;34m.\u001b[0m\u001b[0msin\u001b[0m\u001b[0;34m(\u001b[0m\u001b[0mx\u001b[0m\u001b[0;34m)\u001b[0m\u001b[0;34m\u001b[0m\u001b[0;34m\u001b[0m\u001b[0m\n\u001b[0;32m---> 14\u001b[0;31m \u001b[0mmath\u001b[0m\u001b[0;34m.\u001b[0m\u001b[0msin\u001b[0m\u001b[0;34m(\u001b[0m\u001b[0my\u001b[0m\u001b[0;34m)\u001b[0m \u001b[0;31m#Can't convert complex to float\u001b[0m\u001b[0;34m\u001b[0m\u001b[0;34m\u001b[0m\u001b[0m\n\u001b[0m",
            "\u001b[0;31mTypeError\u001b[0m: can't convert complex to float"
          ]
        }
      ]
    },
    {
      "cell_type": "code",
      "metadata": {
        "id": "YI47Zx77kag2",
        "colab": {
          "base_uri": "https://localhost:8080/"
        },
        "outputId": "f23545cb-4c2c-4569-850a-53a24beb78ee"
      },
      "source": [
        "print(\"Hello, World!\")\n",
        "print(5 + 5)\n",
        "print(\"All finished!\")"
      ],
      "execution_count": 37,
      "outputs": [
        {
          "output_type": "stream",
          "name": "stdout",
          "text": [
            "Hello, World!\n",
            "10\n",
            "All finished!\n"
          ]
        }
      ]
    },
    {
      "cell_type": "code",
      "metadata": {
        "id": "1BsRwEjLqSxE",
        "colab": {
          "base_uri": "https://localhost:8080/"
        },
        "outputId": "f1c78c1a-60b9-4377-cd7e-8614d4023360"
      },
      "source": [
        "# Print the statement, Kindly help me!\n",
        "print(\"Kindly help me!\")"
      ],
      "execution_count": 38,
      "outputs": [
        {
          "output_type": "stream",
          "name": "stdout",
          "text": [
            "Kindly help me!\n"
          ]
        }
      ]
    },
    {
      "cell_type": "code",
      "metadata": {
        "id": "0hlQygpy9Nto",
        "colab": {
          "base_uri": "https://localhost:8080/"
        },
        "outputId": "2c217717-6abd-48d4-9664-0a038922062e"
      },
      "source": [
        "# print the value of the course \n",
        "course = \"Programming with Python\"\n",
        "print (course)"
      ],
      "execution_count": 39,
      "outputs": [
        {
          "output_type": "stream",
          "name": "stdout",
          "text": [
            "Programming with Python\n"
          ]
        }
      ]
    },
    {
      "cell_type": "code",
      "metadata": {
        "id": "ta5XT3nWbX5D"
      },
      "source": [
        ""
      ],
      "execution_count": null,
      "outputs": []
    },
    {
      "cell_type": "code",
      "metadata": {
        "id": "KRQbpCioCZmv",
        "colab": {
          "base_uri": "https://localhost:8080/"
        },
        "outputId": "042f422d-9564-495b-c439-c8b0ad6e08cd"
      },
      "source": [
        "#store the size of the land in the variable size  in square feet \n",
        "size = 200 \n",
        "#store the income as in\n",
        "#print the value of  both size and income \n",
        "\n",
        "income = 9000\n",
        "print(\"size :\",size);\n",
        "print(\"income :\", income);\n",
        "cropname=\"Drumstick\"\n",
        "year = 2021"
      ],
      "execution_count": 47,
      "outputs": [
        {
          "output_type": "stream",
          "name": "stdout",
          "text": [
            "size : 200\n",
            "income : 9000\n"
          ]
        }
      ]
    },
    {
      "cell_type": "code",
      "metadata": {
        "id": "AwZuxqIoEJVV",
        "colab": {
          "base_uri": "https://localhost:8080/"
        },
        "outputId": "6e197ccd-e939-4beb-dfe2-f8ef742acfcc"
      },
      "source": [
        "print (\"Don't eat those cookies before dinner.\")"
      ],
      "execution_count": 43,
      "outputs": [
        {
          "output_type": "stream",
          "name": "stdout",
          "text": [
            "Don't eat those cookies before dinner.\n"
          ]
        }
      ]
    },
    {
      "cell_type": "code",
      "metadata": {
        "id": "l9ymjrwAcGE7",
        "colab": {
          "base_uri": "https://localhost:8080/"
        },
        "outputId": "64db0644-0e3e-4032-92c0-b623fb41946c"
      },
      "source": [
        "print ('Hello \\t \\t \\t world ')"
      ],
      "execution_count": 44,
      "outputs": [
        {
          "output_type": "stream",
          "name": "stdout",
          "text": [
            "Hello \t \t \t world \n"
          ]
        }
      ]
    },
    {
      "cell_type": "code",
      "metadata": {
        "id": "6zLCndnBhJkF",
        "colab": {
          "base_uri": "https://localhost:8080/"
        },
        "outputId": "9e5c3023-54cf-43d6-ec8a-e40b7e2a59dd"
      },
      "source": [
        "print (\"I like Python Programming!\")"
      ],
      "execution_count": 45,
      "outputs": [
        {
          "output_type": "stream",
          "name": "stdout",
          "text": [
            "I like Python Programming!\n"
          ]
        }
      ]
    },
    {
      "cell_type": "code",
      "metadata": {
        "colab": {
          "base_uri": "https://localhost:8080/"
        },
        "id": "p3CqLQsAhS7o",
        "outputId": "660aa91d-c7d7-4910-c5a2-0d039516ecfa"
      },
      "source": [
        "print ('The first program in any programming language is \"Hello World\".')"
      ],
      "execution_count": 46,
      "outputs": [
        {
          "output_type": "stream",
          "name": "stdout",
          "text": [
            "The first program in any programming language is \"Hello World\".\n"
          ]
        }
      ]
    },
    {
      "cell_type": "code",
      "metadata": {
        "colab": {
          "base_uri": "https://localhost:8080/"
        },
        "id": "y2bSAfLTcNw8",
        "outputId": "bcbab9ba-cd57-44fe-8ba9-5e6980b8bec2"
      },
      "source": [
        "print (cropname)"
      ],
      "execution_count": 48,
      "outputs": [
        {
          "output_type": "stream",
          "name": "stdout",
          "text": [
            "Drumstick\n"
          ]
        }
      ]
    },
    {
      "cell_type": "code",
      "metadata": {
        "colab": {
          "base_uri": "https://localhost:8080/"
        },
        "id": "naQO1yYtelji",
        "outputId": "3f0d6a39-8dbb-4bff-f1eb-d02ed01085c2"
      },
      "source": [
        "# find the bug\n",
        "1/2 #bug -> indent"
      ],
      "execution_count": 50,
      "outputs": [
        {
          "output_type": "execute_result",
          "data": {
            "text/plain": [
              "0.5"
            ]
          },
          "metadata": {},
          "execution_count": 50
        }
      ]
    },
    {
      "cell_type": "code",
      "metadata": {
        "colab": {
          "base_uri": "https://localhost:8080/"
        },
        "id": "ww59VvltfTN6",
        "outputId": "8aa4455d-1a48-4509-deb6-d5ed9535335c"
      },
      "source": [
        "profit = 1000\n",
        "#increment profit by 1\n",
        "profit += 1\n",
        "profit"
      ],
      "execution_count": 52,
      "outputs": [
        {
          "output_type": "execute_result",
          "data": {
            "text/plain": [
              "1001"
            ]
          },
          "metadata": {},
          "execution_count": 52
        }
      ]
    },
    {
      "cell_type": "code",
      "metadata": {
        "colab": {
          "base_uri": "https://localhost:8080/"
        },
        "id": "cK7zIHHyizeI",
        "outputId": "1820fd71-350f-420e-99b7-57d9848d95b8"
      },
      "source": [
        "import math\n",
        "print (math.log(10))"
      ],
      "execution_count": 55,
      "outputs": [
        {
          "output_type": "stream",
          "name": "stdout",
          "text": [
            "2.302585092994046\n"
          ]
        }
      ]
    },
    {
      "cell_type": "code",
      "metadata": {
        "colab": {
          "base_uri": "https://localhost:8080/"
        },
        "id": "kVuiqskDjy5L",
        "outputId": "9f77a328-1896-46b2-c9d7-266099135edc"
      },
      "source": [
        "print (math.sin(2))"
      ],
      "execution_count": 56,
      "outputs": [
        {
          "output_type": "stream",
          "name": "stdout",
          "text": [
            "0.9092974268256817\n"
          ]
        }
      ]
    },
    {
      "cell_type": "code",
      "metadata": {
        "colab": {
          "base_uri": "https://localhost:8080/"
        },
        "id": "c-ad-Nzrq77u",
        "outputId": "dab4ac56-7ecf-4274-edf9-65cbf095312e"
      },
      "source": [
        "num_int =55\n",
        "num_str =\"34\"\n",
        "total = num_int + int(num_str) #typecast\n",
        "print (total)\n",
        "print (type(num_int))\n",
        "print (type(num_str))\n"
      ],
      "execution_count": 58,
      "outputs": [
        {
          "output_type": "stream",
          "name": "stdout",
          "text": [
            "89\n",
            "<class 'int'>\n",
            "<class 'str'>\n"
          ]
        }
      ]
    },
    {
      "cell_type": "code",
      "metadata": {
        "id": "jPjjyFnttQmk",
        "colab": {
          "base_uri": "https://localhost:8080/"
        },
        "outputId": "06b5a6fa-d310-47db-c6c4-82a189b221f1"
      },
      "source": [
        "# Trying to print the multiplication entry, but it throws error \n",
        "# can't assign to operator -> 5*6 =30 \n",
        "5*6"
      ],
      "execution_count": 69,
      "outputs": [
        {
          "output_type": "execute_result",
          "data": {
            "text/plain": [
              "30"
            ]
          },
          "metadata": {},
          "execution_count": 69
        }
      ]
    },
    {
      "cell_type": "code",
      "metadata": {
        "id": "3BbHIDfm9m8Z",
        "colab": {
          "base_uri": "https://localhost:8080/"
        },
        "outputId": "3a5efe7d-e891-4685-c864-ead5ac82bb6f"
      },
      "source": [
        "# Trying to find the round of 10.2 \n",
        "round (10.2)\n"
      ],
      "execution_count": 67,
      "outputs": [
        {
          "output_type": "execute_result",
          "data": {
            "text/plain": [
              "10"
            ]
          },
          "metadata": {},
          "execution_count": 67
        }
      ]
    },
    {
      "cell_type": "code",
      "metadata": {
        "colab": {
          "base_uri": "https://localhost:8080/"
        },
        "id": "JgPti3XH905j",
        "outputId": "ebcc5414-567a-4d97-c8be-5d9d85171a09"
      },
      "source": [
        "round(10.2)"
      ],
      "execution_count": 66,
      "outputs": [
        {
          "output_type": "execute_result",
          "data": {
            "text/plain": [
              "10"
            ]
          },
          "metadata": {},
          "execution_count": 66
        }
      ]
    },
    {
      "cell_type": "code",
      "metadata": {
        "colab": {
          "base_uri": "https://localhost:8080/"
        },
        "id": "SNu9AoTc96rR",
        "outputId": "ca538095-407c-42a9-aaab-ecad3d7764b8"
      },
      "source": [
        "# Trying to calculate 2 to the power of 5 \n",
        "\n",
        "pow(2,5)"
      ],
      "execution_count": 65,
      "outputs": [
        {
          "output_type": "execute_result",
          "data": {
            "text/plain": [
              "32"
            ]
          },
          "metadata": {},
          "execution_count": 65
        }
      ]
    },
    {
      "cell_type": "code",
      "metadata": {
        "colab": {
          "base_uri": "https://localhost:8080/"
        },
        "id": "RYI_-mCi_uhB",
        "outputId": "ea4bdc14-384d-4a0a-b62e-3868149b67c0"
      },
      "source": [
        "#Trying to multiply 5 \n",
        "5 * 5 "
      ],
      "execution_count": 63,
      "outputs": [
        {
          "output_type": "execute_result",
          "data": {
            "text/plain": [
              "25"
            ]
          },
          "metadata": {},
          "execution_count": 63
        }
      ]
    },
    {
      "cell_type": "code",
      "metadata": {
        "id": "nBbRBfMb9JOs",
        "colab": {
          "base_uri": "https://localhost:8080/",
          "height": 35
        },
        "outputId": "648b552f-99f1-4b23-f213-b979767221a4"
      },
      "source": [
        "# Trying to print the text message Hello \n",
        "\n",
        "hello = \"hello\"\n",
        "hello"
      ],
      "execution_count": 61,
      "outputs": [
        {
          "output_type": "execute_result",
          "data": {
            "application/vnd.google.colaboratory.intrinsic+json": {
              "type": "string"
            },
            "text/plain": [
              "'hello'"
            ]
          },
          "metadata": {},
          "execution_count": 61
        }
      ]
    },
    {
      "cell_type": "code",
      "metadata": {
        "id": "79e4eQ0RbY4U"
      },
      "source": [
        "#store the size of the land in the variable size  in square feet \n",
        "size = 200 \n",
        "#store the income as in\n",
        "#print the value of  both size and income \n",
        "in= 9000\n",
        "cropName=\"Drumstick\"\n",
        "year@2021 = 'Drumstick'"
      ],
      "execution_count": null,
      "outputs": []
    }
  ]
}