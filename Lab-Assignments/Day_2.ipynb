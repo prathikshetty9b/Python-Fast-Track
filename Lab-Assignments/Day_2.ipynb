{
  "nbformat": 4,
  "nbformat_minor": 0,
  "metadata": {
    "colab": {
      "name": "PFT_h2.ipynb",
      "provenance": [],
      "collapsed_sections": []
    },
    "kernelspec": {
      "name": "python3",
      "display_name": "Python 3"
    },
    "language_info": {
      "name": "python"
    }
  },
  "cells": [
    {
      "cell_type": "markdown",
      "metadata": {
        "id": "Dqhyp7X51ZwD"
      },
      "source": [
        "The main idea of this homework is to understand \n",
        "\n",
        "        - split function\n",
        "\n",
        "        - debug the program\n",
        "\n",
        "        - looping and conditional constructs "
      ]
    },
    {
      "cell_type": "code",
      "metadata": {
        "id": "Ldldl3Navhld",
        "colab": {
          "base_uri": "https://localhost:8080/"
        },
        "outputId": "c9a16620-185d-4986-9a7e-88a4ab9a92dc"
      },
      "source": [
        "# get the string from the user. convert the string into list \n",
        "#input from the user\n",
        "\n",
        "user_string = input(\"Enter your string : \");\n",
        "#convert to list\n",
        "user_list = user_string.split();\n",
        "print(\"User List : \",user_list)\n",
        "\n",
        "lots_of_spaces = 'hello        how        are      you?';\n",
        "#convert to list \n",
        "list_1 = lots_of_spaces.split();\n",
        "print(\"List 1 : \",list_1);\n",
        "\n",
        "lots_of_comma = 'hello,how,are,you?'\n",
        "#convert to list\n",
        "list_2 = lots_of_comma.split(',');\n",
        "print(\"List 2 : \",list_2);\n",
        "\n",
        "# Hint: split "
      ],
      "execution_count": null,
      "outputs": [
        {
          "output_type": "stream",
          "name": "stdout",
          "text": [
            "Enter your string : j\n",
            "User List :  ['j']\n",
            "List 1 :  ['hello', 'how', 'are', 'you?']\n",
            "List 2 :  ['hello', 'how', 'are', 'you?']\n"
          ]
        }
      ]
    },
    {
      "cell_type": "code",
      "metadata": {
        "id": "jbIpgbVIsZzi",
        "colab": {
          "base_uri": "https://localhost:8080/"
        },
        "outputId": "ae7cc4bd-d5f6-4fd5-fb79-1f82424cddb6"
      },
      "source": [
        "# Find the bug \n",
        "# calculate the 2 to the power of 5 \n",
        "# ^ is used for xor operation, ** is used for power\n",
        "2 ** 5 "
      ],
      "execution_count": null,
      "outputs": [
        {
          "output_type": "execute_result",
          "data": {
            "text/plain": [
              "32"
            ]
          },
          "metadata": {},
          "execution_count": 5
        }
      ]
    },
    {
      "cell_type": "code",
      "metadata": {
        "id": "UPBccbyPwEG-",
        "colab": {
          "base_uri": "https://localhost:8080/"
        },
        "outputId": "192df650-6e1b-4846-a989-864972db9b81"
      },
      "source": [
        "# Develop Arithmetic calculator based on user choice the program should perform arithmetic operation (Any 7 opeations)\n",
        "\n",
        "#User Choices\n",
        "print(\"Arithmatic Calculator\\n\");\n",
        "print(\"Select 1 to Perform Addition\");\n",
        "print(\"Select 2 to Perform Substraction\");\n",
        "print(\"Select 3 to Perform Multiplication\");\n",
        "print(\"Select 4 to Perform Division\");\n",
        "print(\"Select 5 to Perform Integer Division\");\n",
        "print(\"Select 6 to Find Modulus\");\n",
        "print(\"Select 7 to Find Power\");\n",
        "print(\"\\n\")\n",
        "\n",
        "#user input\n",
        "choice = int(input(\"Enter your choice  : \"))\n",
        "num_1 = int(input(\"Enter Number 1     : \"));\n",
        "num_2 = int(input(\"Enter Number 2     : \"));\n",
        "print(\"\\n\")\n",
        "\n",
        "#Conditional Statements\n",
        "if choice ==1 :\n",
        "  print(\"Sum      :\", num_1 + num_2);\n",
        "elif choice == 2 :\n",
        "  print(\"Substraction :\", num_1 - num_2);\n",
        "elif choice == 3 :\n",
        "  print(\"Product :\", num_1 * num_2);\n",
        "elif choice == 4 :\n",
        "  print(\"Division :\", num_1 / num_2);\n",
        "elif choice == 5 :\n",
        "  print(\"Integer Division :\", num_1 // num_2);\n",
        "elif choice == 6 :\n",
        "  print(\"Modulo :\", num_1 % num_2);\n",
        "elif choice == 7 :\n",
        "  print(\"Power  :\", num_1 ** num_2);\n",
        "else : \n",
        "  print(\"Invalid Choice\");"
      ],
      "execution_count": null,
      "outputs": [
        {
          "output_type": "stream",
          "name": "stdout",
          "text": [
            "Arithmatic Calculator\n",
            "\n",
            "Select 1 to Perform Addition\n",
            "Select 2 to Perform Substraction\n",
            "Select 3 to Perform Multiplication\n",
            "Select 4 to Perform Division\n",
            "Select 5 to Perform Integer Division\n",
            "Select 6 to Find Modulus\n",
            "Select 7 to Find Power\n",
            "\n",
            "\n",
            "Enter your choice  : 5\n",
            "Enter Number 1     : 10\n",
            "Enter Number 2     : 20\n",
            "\n",
            "\n",
            "Integer Division : 0\n"
          ]
        }
      ]
    },
    {
      "cell_type": "code",
      "metadata": {
        "id": "KNV7EA85wLmf",
        "colab": {
          "base_uri": "https://localhost:8080/"
        },
        "outputId": "2ab93869-20e5-4c39-95c3-62d965edfdc2"
      },
      "source": [
        "# Develop String Calculator based on user choice the program should perform string operations (Any 5 operations )\n",
        "#User Choices\n",
        "print(\"String Calculator\\n\");\n",
        "print(\"Select 1 to count number of characters in a string\");\n",
        "print(\"Select 2 to convert string to a list\");\n",
        "print(\"Select 3 to make the string uppercase\");\n",
        "print(\"Select 4 to replace specific value in a string\");\n",
        "print(\"Select 5 to find an element in the string\");\n",
        "print(\"\\n\")\n",
        "\n",
        "#user input\n",
        "choice = int(input(\"Enter your Choice   : \"));\n",
        "user_string = input(\"Enter your string : \");\n",
        "print(\"\\n\")\n",
        "\n",
        "if choice == 1:\n",
        "  print(\"Number of Characters    : \", len(user_string));\n",
        "elif choice == 2:\n",
        "  print(\"List   : \", user_string.split());\n",
        "elif choice == 3:\n",
        "  print(\"Uppercase String  : \", user_string.upper());\n",
        "elif choice == 4:\n",
        "  to_replace = input(\"Enter Old Character or String  : \");\n",
        "  replace_with = input(\"Enter new Character or String  : \");\n",
        "  print(\"Replaced String : \",user_string.replace(to_replace,replace_with));\n",
        "elif choice == 5:\n",
        "  find = input(\"Enter Character or string to find : \");\n",
        "  print(\"Character or string found in  position %d\"%(user_string.find(find)));\n",
        "else :\n",
        "  print(\"Invalid Choice\");\n",
        "\n"
      ],
      "execution_count": null,
      "outputs": [
        {
          "output_type": "stream",
          "name": "stdout",
          "text": [
            "String Calculator\n",
            "\n",
            "Select 1 to count number of characters in a string\n",
            "Select 2 to convert string to a list\n",
            "Select 3 to make the string uppercase\n",
            "Select 4 to replace specific value in a string\n",
            "Select 5 to find an element in the string\n",
            "\n",
            "\n",
            "Enter your Choice   : 5\n",
            "Enter your string : Hey how are you?\n",
            "\n",
            "\n",
            "Enter Character or string to find : how\n",
            "Character or string found in 4 position\n"
          ]
        }
      ]
    },
    {
      "cell_type": "code",
      "metadata": {
        "id": "42aYwAukQdD5",
        "colab": {
          "base_uri": "https://localhost:8080/"
        },
        "outputId": "3f59f084-1a51-43aa-97d6-3c8019da78de"
      },
      "source": [
        "# Write a program to prompt the user for hours and rate per hour to compute gross pay.\n",
        "# Take into account that the university gives the employee 2.5 times the hourly rate for hours worked above 50 hours.\n",
        "\n",
        "#User Input \n",
        "hours_worked = int(input(\"Enter Total Hours Worked : \"));\n",
        "rate_per_hour = int(input(\"Enter Rate Per Hour      : \"));\n",
        "gross_pay = 0;\n",
        "print(\"\\n\");\n",
        "\n",
        "#hours worked greater than 50\n",
        "\n",
        "if hours_worked > 50 :\n",
        "  extra_hours = hours_worked - 50; #hours above 50\n",
        "  gross_pay = 50 * rate_per_hour + extra_hours * 2.5 * rate_per_hour;\n",
        "  print(\"Gross Pay    : \", gross_pay);\n",
        "#hours worked between 0 and 50\n",
        "\n",
        "elif hours_worked > 0 and hours_worked <= 50:\n",
        "  gross_pay = hours_worked * rate_per_hour;\n",
        "  print(\"Gross Pay    : \", gross_pay);\n",
        "\n",
        "# Invalid Inputs\n",
        "else :\n",
        "  print(\"Invalid Input\");\n",
        "\n",
        "  \n"
      ],
      "execution_count": 3,
      "outputs": [
        {
          "output_type": "stream",
          "name": "stdout",
          "text": [
            "Enter Total Hours Worked : 49\n",
            "Enter Rate Per Hour      : 10\n",
            "\n",
            "\n",
            "Gross Pay    :  490\n"
          ]
        }
      ]
    },
    {
      "cell_type": "code",
      "metadata": {
        "id": "Sl4ToIzWRDer",
        "colab": {
          "base_uri": "https://localhost:8080/"
        },
        "outputId": "de771647-9b96-4d87-e8ba-5b8b8a638633"
      },
      "source": [
        "# Create a list called hobbies. Create a for loop that prompts the user for a hobby 3 times, then appends each one to hobbies in the list\n",
        "# Hint 1 : List \n",
        "# Hint 2 : append \n",
        "#Create empty list\n",
        "hobbies = [];\n",
        "\n",
        "#User prompt\n",
        "for i in range(3):\n",
        "  list_item = input(\"Hobby %d \"%(i+1));\n",
        "  #append to hobbies\n",
        "  hobbies.append(list_item);\n",
        "\n",
        "print(hobbies);\n"
      ],
      "execution_count": 5,
      "outputs": [
        {
          "output_type": "stream",
          "name": "stdout",
          "text": [
            "Hobby 1 Reading\n",
            "Hobby 2 Music\n",
            "Hobby 3 Take\n",
            "['Reading', 'Music', 'Take']\n"
          ]
        }
      ]
    },
    {
      "cell_type": "code",
      "metadata": {
        "id": "RZCNWQIbV90j",
        "colab": {
          "base_uri": "https://localhost:8080/"
        },
        "outputId": "58a79873-e9c9-4f35-cb37-4e76624ec8ea"
      },
      "source": [
        "# Write a Python program to check whether the given integer is a multiple of both 5 and 7 . \n",
        "\n",
        "integer = 35\n",
        "\n",
        "#Use modulus \n",
        "if integer % 5 == 0 and integer % 7 == 0 :\n",
        "  print(\"%d is a multiple of both 5 and 7 \"%integer);\n",
        "else :\n",
        "  print(\"%d is not a multiple of 5 and 7\"%integer);\n",
        "\n"
      ],
      "execution_count": 9,
      "outputs": [
        {
          "output_type": "stream",
          "name": "stdout",
          "text": [
            "35 is a multiple of both 5 and 7 \n"
          ]
        }
      ]
    },
    {
      "cell_type": "code",
      "metadata": {
        "colab": {
          "base_uri": "https://localhost:8080/"
        },
        "id": "JoP4MCoIW3R1",
        "outputId": "6b4051fb-7865-4e02-c8b0-4604f699df24"
      },
      "source": [
        "# Find the error and correct the mistakes \n",
        "# the main idea of this code is to print the data from the dictionary (Data structure)\n",
        "\n",
        "phone_book = {\n",
        "'John' : [ '8592970000', 'john@xyzmail.com', 'Humpi' ],\n",
        "'Bob': [ '7994880000', 'bob@xyzmail.com','Manipal' ],\n",
        "'Tom' : [ '9749552647' , 'tom@xyzmail.com','Udupi' ]}\n",
        "\n",
        "for k,v in phone_book.items():\n",
        "  print(k, \":\", v)"
      ],
      "execution_count": 68,
      "outputs": [
        {
          "output_type": "stream",
          "name": "stdout",
          "text": [
            "John : ['8592970000', 'john@xyzmail.com', 'Humpi']\n",
            "Bob : ['7994880000', 'bob@xyzmail.com', 'Manipal']\n",
            "Tom : ['9749552647', 'tom@xyzmail.com', 'Udupi']\n"
          ]
        }
      ]
    },
    {
      "cell_type": "code",
      "metadata": {
        "colab": {
          "base_uri": "https://localhost:8080/"
        },
        "id": "28JOqamGb0p2",
        "outputId": "0ac1731c-15c5-42d5-e89b-57e585f19778"
      },
      "source": [
        "# Find the bug \n",
        "# print all the numbers between 2 and 8 \n",
        "\n",
        "list = [i for i in range(3,9) ]\n",
        "print(list)"
      ],
      "execution_count": 12,
      "outputs": [
        {
          "output_type": "stream",
          "name": "stdout",
          "text": [
            "[3, 4, 5, 6, 7, 8]\n"
          ]
        }
      ]
    },
    {
      "cell_type": "code",
      "metadata": {
        "id": "u0u4KWFaZsFd",
        "colab": {
          "base_uri": "https://localhost:8080/"
        },
        "outputId": "69442984-aa4a-4b9b-e55d-6378fbcc44ef"
      },
      "source": [
        "# find the bug\n",
        "# Suppose you are trying to compute a signal-to-noise ratio in\n",
        "# decibels. The formula is SNRdb = 10log10(Psignal /Pnoise).\n",
        "\n",
        "import math\n",
        "signal_power = 9\n",
        "noise_power = 10\n",
        "\n",
        "ratio = signal_power / noise_power\n",
        "print(ratio)\n",
        "\n",
        "decibels = 10 * math.log10(ratio) #Throws value error if ratio is 0 or negative\n",
        "print (decibels)"
      ],
      "execution_count": 15,
      "outputs": [
        {
          "output_type": "stream",
          "name": "stdout",
          "text": [
            "0.9\n",
            "-0.4575749056067512\n"
          ]
        }
      ]
    },
    {
      "cell_type": "code",
      "metadata": {
        "id": "WwTWolGNwDNe",
        "colab": {
          "base_uri": "https://localhost:8080/"
        },
        "outputId": "2ac8d5c7-23be-4bb3-b681-4a0782937b4b"
      },
      "source": [
        "# Check whether the number is present in the list or not \n",
        "list = [1, 2, 3, 4, 5 ]\n",
        "# in is used to check whether the member is present or not \n",
        "\n",
        "#number to be checked\n",
        "a = 3\n",
        "\n",
        "if a in list :\n",
        "  print(\"%d is present in the list\"%a); \n",
        "else: \n",
        "  print(\"%d is not present in the list\"%a);"
      ],
      "execution_count": 17,
      "outputs": [
        {
          "output_type": "stream",
          "name": "stdout",
          "text": [
            "3 is present in the list\n"
          ]
        }
      ]
    },
    {
      "cell_type": "code",
      "metadata": {
        "colab": {
          "base_uri": "https://localhost:8080/"
        },
        "id": "8-KvC26bwl46",
        "outputId": "6db11bd0-6348-4d95-a2ad-8f6541af4ea5"
      },
      "source": [
        "# check whether the number is same or not \n",
        "# use of identity opeartor is \n",
        "# find the bug \n",
        "\"\"\"\n",
        "Identity operators are used to compare the objects, \n",
        "not if they are equal, but if they are actually the same object, \n",
        "with the same memory location:\n",
        "  is ->  Returns true if both variables are the same object\n",
        "  is not -> Returns true if both variables are not the same object\n",
        "\"\"\"\n",
        "a=10\n",
        "b=10 \n",
        "if ( a is not  b ):\n",
        "  print (\"a and b do not have same identity\")\n",
        "else:\n",
        "  print (\"a and b have same identity\")"
      ],
      "execution_count": 22,
      "outputs": [
        {
          "output_type": "stream",
          "name": "stdout",
          "text": [
            "a and b have same identity\n"
          ]
        }
      ]
    },
    {
      "cell_type": "code",
      "metadata": {
        "id": "dnLaVxeuy_7S",
        "colab": {
          "base_uri": "https://localhost:8080/"
        },
        "outputId": "85416c01-bebc-4098-d09b-6121ffdcaafc"
      },
      "source": [
        "# Find the bug \n",
        "\n",
        "# Prints out 0,1,2,3,4 using while loop\n",
        "count = 0\n",
        "while True:\n",
        "    print(\"\",count,end=\"\")\n",
        "    count += 1\n",
        "    if count >= 5:\n",
        "      break"
      ],
      "execution_count": 29,
      "outputs": [
        {
          "output_type": "stream",
          "name": "stdout",
          "text": [
            " 0 1 2 3 4"
          ]
        }
      ]
    },
    {
      "cell_type": "code",
      "metadata": {
        "id": "wUZcnZ-xzQwQ",
        "colab": {
          "base_uri": "https://localhost:8080/"
        },
        "outputId": "abe694bb-c255-437a-8227-a055f2e95ee9"
      },
      "source": [
        "# Prints out only even numbers - 2,4,6,8,10 using for loop and continue\n",
        "# find the bug \n",
        "\n",
        "for x in range(1,11):\n",
        "    # Check if x is even\n",
        "    if not x % 2 == 0:\n",
        "        continue\n",
        "    print(\"\",x,end=\"\")"
      ],
      "execution_count": 34,
      "outputs": [
        {
          "output_type": "stream",
          "name": "stdout",
          "text": [
            " 2 4 6 8 10"
          ]
        }
      ]
    },
    {
      "cell_type": "code",
      "metadata": {
        "id": "A4Ejnfy_zhg7",
        "colab": {
          "base_uri": "https://localhost:8080/"
        },
        "outputId": "7f68f940-404a-4a61-d1ee-81b36724996d"
      },
      "source": [
        "# Printing even and odd numbers using for loop and ternary operator\n",
        "# find the bug \n",
        "\n",
        "for x in range(1,11):\n",
        "    print(str(x) + \" is even number\") if(x % 2 == 0) else print(str(x) + \" is odd number\")"
      ],
      "execution_count": 37,
      "outputs": [
        {
          "output_type": "stream",
          "name": "stdout",
          "text": [
            "1 is odd number\n",
            "2 is even number\n",
            "3 is odd number\n",
            "4 is even number\n",
            "5 is odd number\n",
            "6 is even number\n",
            "7 is odd number\n",
            "8 is even number\n",
            "9 is odd number\n",
            "10 is even number\n"
          ]
        }
      ]
    },
    {
      "cell_type": "code",
      "metadata": {
        "id": "eeyCj9U307qV",
        "colab": {
          "base_uri": "https://localhost:8080/"
        },
        "outputId": "774670d1-4196-46a8-f9ab-67e846d588f4"
      },
      "source": [
        "# Write a program which will find all such numbers which are divisible by 7 but are not a multiple of 5,\n",
        "#between 5 and 4570 (both included).\n",
        "count = 0;\n",
        "for x in range(5,4571):\n",
        "  if x % 5 !=0 and x % 7 == 0:\n",
        "    print(\"\",x,end=\"\");\n",
        "    \n",
        "\n"
      ],
      "execution_count": 46,
      "outputs": [
        {
          "output_type": "stream",
          "name": "stdout",
          "text": [
            " 7 14 21 28 42 49 56 63 77 84 91 98 112 119 126 133 147 154 161 168 182 189 196 203 217 224 231 238 252 259 266 273 287 294 301 308 322 329 336 343 357 364 371 378 392 399 406 413 427 434 441 448 462 469 476 483 497 504 511 518 532 539 546 553 567 574 581 588 602 609 616 623 637 644 651 658 672 679 686 693 707 714 721 728 742 749 756 763 777 784 791 798 812 819 826 833 847 854 861 868 882 889 896 903 917 924 931 938 952 959 966 973 987 994 1001 1008 1022 1029 1036 1043 1057 1064 1071 1078 1092 1099 1106 1113 1127 1134 1141 1148 1162 1169 1176 1183 1197 1204 1211 1218 1232 1239 1246 1253 1267 1274 1281 1288 1302 1309 1316 1323 1337 1344 1351 1358 1372 1379 1386 1393 1407 1414 1421 1428 1442 1449 1456 1463 1477 1484 1491 1498 1512 1519 1526 1533 1547 1554 1561 1568 1582 1589 1596 1603 1617 1624 1631 1638 1652 1659 1666 1673 1687 1694 1701 1708 1722 1729 1736 1743 1757 1764 1771 1778 1792 1799 1806 1813 1827 1834 1841 1848 1862 1869 1876 1883 1897 1904 1911 1918 1932 1939 1946 1953 1967 1974 1981 1988 2002 2009 2016 2023 2037 2044 2051 2058 2072 2079 2086 2093 2107 2114 2121 2128 2142 2149 2156 2163 2177 2184 2191 2198 2212 2219 2226 2233 2247 2254 2261 2268 2282 2289 2296 2303 2317 2324 2331 2338 2352 2359 2366 2373 2387 2394 2401 2408 2422 2429 2436 2443 2457 2464 2471 2478 2492 2499 2506 2513 2527 2534 2541 2548 2562 2569 2576 2583 2597 2604 2611 2618 2632 2639 2646 2653 2667 2674 2681 2688 2702 2709 2716 2723 2737 2744 2751 2758 2772 2779 2786 2793 2807 2814 2821 2828 2842 2849 2856 2863 2877 2884 2891 2898 2912 2919 2926 2933 2947 2954 2961 2968 2982 2989 2996 3003 3017 3024 3031 3038 3052 3059 3066 3073 3087 3094 3101 3108 3122 3129 3136 3143 3157 3164 3171 3178 3192 3199 3206 3213 3227 3234 3241 3248 3262 3269 3276 3283 3297 3304 3311 3318 3332 3339 3346 3353 3367 3374 3381 3388 3402 3409 3416 3423 3437 3444 3451 3458 3472 3479 3486 3493 3507 3514 3521 3528 3542 3549 3556 3563 3577 3584 3591 3598 3612 3619 3626 3633 3647 3654 3661 3668 3682 3689 3696 3703 3717 3724 3731 3738 3752 3759 3766 3773 3787 3794 3801 3808 3822 3829 3836 3843 3857 3864 3871 3878 3892 3899 3906 3913 3927 3934 3941 3948 3962 3969 3976 3983 3997 4004 4011 4018 4032 4039 4046 4053 4067 4074 4081 4088 4102 4109 4116 4123 4137 4144 4151 4158 4172 4179 4186 4193 4207 4214 4221 4228 4242 4249 4256 4263 4277 4284 4291 4298 4312 4319 4326 4333 4347 4354 4361 4368 4382 4389 4396 4403 4417 4424 4431 4438 4452 4459 4466 4473 4487 4494 4501 4508 4522 4529 4536 4543 4557 4564"
          ]
        }
      ]
    },
    {
      "cell_type": "code",
      "metadata": {
        "id": "Sa6TY06d5RMH",
        "colab": {
          "base_uri": "https://localhost:8080/"
        },
        "outputId": "7fd0bdb1-e2dd-4e07-a1ad-89a034bda8da"
      },
      "source": [
        "# Write a program which accepts input to convert the temperature from one unit to another based on user choice \n",
        "# fahrenheit to celsius or celsius to fahrenheit until they say \"Quit\".\n",
        "#Flag to toggle while loop\n",
        "flag = True;\n",
        "\n",
        "\n",
        "while flag:\n",
        "  print(\"\\nSelect 1 for Fahrenheit to Celsius\");\n",
        "  print(\"Select 2 for Celsius to Fahrenheit\\n\");\n",
        "  choice = int(input(\"Enter your choice : \"));\n",
        "  print(\"\\n\");\n",
        "  if choice == 1:\n",
        "    celsius = float(input(\"Enter Temperature in Celsius : \"));\n",
        "    fahrenheit = celsius * (9/5) + 32;\n",
        "    print(\"Fahrenheit      : %.1f\\n\"%fahrenheit);\n",
        "\n",
        "    #Ask user if he/she wants to quit\n",
        "    quit = input(\"Type 'Quit' to stop\");\n",
        "    if quit == \"Quit\" or quit == \"quit\":\n",
        "      flag = False;\n",
        "        \n",
        "  elif choice == 2:\n",
        "    fahrenheit = float(input(\"Enter Temperature in Fahrenheit : \"));\n",
        "    celsius = (fahrenheit - 32) * (5/9);\n",
        "    print(\"Celsius      : %.1f\\n\"%celsius);\n",
        "    \n",
        "    #Ask user if he/she wants to quit\n",
        "    quit = input(\"Type 'Quit' to stop : \");\n",
        "    if quit == \"Quit\" or quit == \"quit\":\n",
        "      flag = False;\n",
        "  else:\n",
        "    print(\"Invalid Choice\\n\");\n",
        "    \n",
        "    #Ask user if he/she wants to quit\n",
        "    quit = input(\"Type 'Quit' to stop : \");\n",
        "    if quit == \"Quit\" or quit == \"quit\":\n",
        "      flag = False;\n",
        "\n",
        "# Hint: infinite loop"
      ],
      "execution_count": 58,
      "outputs": [
        {
          "name": "stdout",
          "output_type": "stream",
          "text": [
            "\n",
            "Select 1 for Fahrenheit to Celsius\n",
            "Select 2 for Celsius to Fahrenheit\n",
            "\n",
            "Enter your choice : 2\n",
            "\n",
            "\n",
            "Enter Temperature in Fahrenheit : 21\n",
            "Celsius      : -6.1\n",
            "\n",
            "Type 'Quit' to stop : quit\n"
          ]
        }
      ]
    },
    {
      "cell_type": "markdown",
      "metadata": {
        "id": "IEBIAE6n2Fwh"
      },
      "source": [
        "Write a program that converts the temperature in Celsius to Fahrenheit. Have the program output two columns. In the first column, it prints out the temperature in Celsius, and the second in Fahrenheit. Have the data print out all integer values of Celsius from 0 to 100 in 3 degree increments. Have the data print out the Fahrenheit to 1 decimal\n",
        "\n",
        "Sample Output (in 4 degree increments for Celsius)![py08_fig1.png](data:image/png;base64,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)\n",
        "\n",
        "sample output"
      ]
    },
    {
      "cell_type": "code",
      "metadata": {
        "colab": {
          "base_uri": "https://localhost:8080/"
        },
        "id": "IW9n_bp5Oo_X",
        "outputId": "eee7fd96-6bf8-4c68-80dc-0b52caee9f27"
      },
      "source": [
        "#Celsius to Fahrenheit\n",
        "print(\"Celsius\\t\\tFahrenheit\");\n",
        "celsius = 0;\n",
        "while (celsius >= 0 and celsius <= 100):\n",
        "  fahrenheit = celsius * (9/5) + 32;\n",
        "  print(\"%d\\t\\t%.1f\"%(celsius,fahrenheit));\n",
        "  celsius += 3;"
      ],
      "execution_count": 54,
      "outputs": [
        {
          "output_type": "stream",
          "name": "stdout",
          "text": [
            "Celsius\t\tFahrenheit\n",
            "0\t\t32.0\n",
            "3\t\t37.4\n",
            "6\t\t42.8\n",
            "9\t\t48.2\n",
            "12\t\t53.6\n",
            "15\t\t59.0\n",
            "18\t\t64.4\n",
            "21\t\t69.8\n",
            "24\t\t75.2\n",
            "27\t\t80.6\n",
            "30\t\t86.0\n",
            "33\t\t91.4\n",
            "36\t\t96.8\n",
            "39\t\t102.2\n",
            "42\t\t107.6\n",
            "45\t\t113.0\n",
            "48\t\t118.4\n",
            "51\t\t123.8\n",
            "54\t\t129.2\n",
            "57\t\t134.6\n",
            "60\t\t140.0\n",
            "63\t\t145.4\n",
            "66\t\t150.8\n",
            "69\t\t156.2\n",
            "72\t\t161.6\n",
            "75\t\t167.0\n",
            "78\t\t172.4\n",
            "81\t\t177.8\n",
            "84\t\t183.2\n",
            "87\t\t188.6\n",
            "90\t\t194.0\n",
            "93\t\t199.4\n",
            "96\t\t204.8\n",
            "99\t\t210.2\n"
          ]
        }
      ]
    },
    {
      "cell_type": "code",
      "metadata": {
        "id": "4lLNUGrgPBAt"
      },
      "source": [
        ""
      ],
      "execution_count": null,
      "outputs": []
    }
  ]
}